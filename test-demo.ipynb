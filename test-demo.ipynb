{
 "cells": [
  {
   "cell_type": "code",
   "execution_count": 1,
   "id": "ba75cb38-225c-45a3-bd60-56f2ea89fb43",
   "metadata": {},
   "outputs": [
    {
     "name": "stdout",
     "output_type": "stream",
     "text": [
      "Train model on 712 examples\n",
      "Model trained in 0:00:00.059339\n",
      "[0.03666667 0.99999917 0.5966662  0.99999917 0.00333333]\n"
     ]
    }
   ],
   "source": [
    "import pandas as pd\n",
    "import ydf\n",
    "\n",
    "# Téléchargement des données Titanic depuis GitHub\n",
    "url = \"https://raw.githubusercontent.com/datasciencedojo/datasets/master/titanic.csv\"\n",
    "df = pd.read_csv(url)\n",
    "\n",
    "# Nettoyage simple : sélection de colonnes utiles\n",
    "df = df[[\"Pclass\", \"Sex\", \"Age\", \"SibSp\", \"Parch\", \"Fare\", \"Embarked\", \"Survived\"]]\n",
    "df = df.dropna()\n",
    "df[\"Sex\"] = df[\"Sex\"].astype(\"category\")\n",
    "df[\"Embarked\"] = df[\"Embarked\"].astype(\"category\")\n",
    "df[\"Survived\"] = df[\"Survived\"].astype(str)  # YDF nécessite une chaîne\n",
    "\n",
    "# Entraînement d'une forêt aléatoire\n",
    "model = ydf.RandomForestLearner(label=\"Survived\").train(df)\n",
    "\n",
    "# Résumé du modèle\n",
    "model.describe()\n",
    "\n",
    "# Prédictions sur quelques lignes\n",
    "predictions = model.predict(df.head(5))\n",
    "print(predictions)\n"
   ]
  },
  {
   "cell_type": "code",
   "execution_count": null,
   "id": "9517c7ef-80e0-4974-9367-66a81d102087",
   "metadata": {},
   "outputs": [],
   "source": []
  }
 ],
 "metadata": {
  "kernelspec": {
   "display_name": "Python 3 (ipykernel)",
   "language": "python",
   "name": "python3"
  },
  "language_info": {
   "codemirror_mode": {
    "name": "ipython",
    "version": 3
   },
   "file_extension": ".py",
   "mimetype": "text/x-python",
   "name": "python",
   "nbconvert_exporter": "python",
   "pygments_lexer": "ipython3",
   "version": "3.11.13"
  }
 },
 "nbformat": 4,
 "nbformat_minor": 5
}
